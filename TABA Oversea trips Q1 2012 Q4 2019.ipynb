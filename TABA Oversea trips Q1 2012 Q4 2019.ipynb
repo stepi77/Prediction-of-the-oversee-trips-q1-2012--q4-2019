{
 "cells": [
  {
   "cell_type": "markdown",
   "metadata": {},
   "source": [
    "# Prediction of the oversee trips q1 2012- q4 2019\n",
    "\n",
    "Abstract:\n",
    "The aim of this analysis is to assess the components of the \n",
    "time series Oversea Trips, implement some models, run the \n",
    "relevant diagnostic tests and choose the best model. From the \n",
    "models the forecasting will be executed with illustrative \n",
    "graphics and an assessment of the chosen model will be \n",
    "provided. \n",
    "\n",
    "Conclusions:\n",
    "In this analysis we run 3 predictive models:\n",
    "- Mean model.\n",
    "- Exponential smoothing model.\n",
    "- Arima model (auto version).\n",
    "In all cases, the errors are normally distributed. The smallest \n",
    "RMSE and MAE are very similar for the last 2 models, \n",
    "between 50 and 72. \n",
    "Because the Exponential smoothing model has a more normal \n",
    "distribution of the error, this is the model chosen."
   ]
  },
  {
   "cell_type": "code",
   "execution_count": null,
   "metadata": {},
   "outputs": [],
   "source": [
    "trips <- read.csv('OverseasTrips.csv')"
   ]
  },
  {
   "cell_type": "code",
   "execution_count": 71,
   "metadata": {},
   "outputs": [
    {
     "data": {
      "text/html": [
       "<table class=\"dataframe\">\n",
       "<caption>A data.frame: 6 × 2</caption>\n",
       "<thead>\n",
       "\t<tr><th></th><th scope=col>ï..Quarter</th><th scope=col>Trips.Thousands.</th></tr>\n",
       "\t<tr><th></th><th scope=col>&lt;chr&gt;</th><th scope=col>&lt;dbl&gt;</th></tr>\n",
       "</thead>\n",
       "<tbody>\n",
       "\t<tr><th scope=row>1</th><td>2012Q1</td><td>1165.1</td></tr>\n",
       "\t<tr><th scope=row>2</th><td>2012Q2</td><td>1817.3</td></tr>\n",
       "\t<tr><th scope=row>3</th><td>2012Q3</td><td>2096.7</td></tr>\n",
       "\t<tr><th scope=row>4</th><td>2012Q4</td><td>1438.0</td></tr>\n",
       "\t<tr><th scope=row>5</th><td>2013Q1</td><td>1251.7</td></tr>\n",
       "\t<tr><th scope=row>6</th><td>2013Q2</td><td>1893.0</td></tr>\n",
       "</tbody>\n",
       "</table>\n"
      ],
      "text/latex": [
       "A data.frame: 6 × 2\n",
       "\\begin{tabular}{r|ll}\n",
       "  & ï..Quarter & Trips.Thousands.\\\\\n",
       "  & <chr> & <dbl>\\\\\n",
       "\\hline\n",
       "\t1 & 2012Q1 & 1165.1\\\\\n",
       "\t2 & 2012Q2 & 1817.3\\\\\n",
       "\t3 & 2012Q3 & 2096.7\\\\\n",
       "\t4 & 2012Q4 & 1438.0\\\\\n",
       "\t5 & 2013Q1 & 1251.7\\\\\n",
       "\t6 & 2013Q2 & 1893.0\\\\\n",
       "\\end{tabular}\n"
      ],
      "text/markdown": [
       "\n",
       "A data.frame: 6 × 2\n",
       "\n",
       "| <!--/--> | ï..Quarter &lt;chr&gt; | Trips.Thousands. &lt;dbl&gt; |\n",
       "|---|---|---|\n",
       "| 1 | 2012Q1 | 1165.1 |\n",
       "| 2 | 2012Q2 | 1817.3 |\n",
       "| 3 | 2012Q3 | 2096.7 |\n",
       "| 4 | 2012Q4 | 1438.0 |\n",
       "| 5 | 2013Q1 | 1251.7 |\n",
       "| 6 | 2013Q2 | 1893.0 |\n",
       "\n"
      ],
      "text/plain": [
       "  ï..Quarter Trips.Thousands.\n",
       "1 2012Q1     1165.1          \n",
       "2 2012Q2     1817.3          \n",
       "3 2012Q3     2096.7          \n",
       "4 2012Q4     1438.0          \n",
       "5 2013Q1     1251.7          \n",
       "6 2013Q2     1893.0          "
      ]
     },
     "metadata": {},
     "output_type": "display_data"
    }
   ],
   "source": [
    "head(trips)"
   ]
  },
  {
   "cell_type": "code",
   "execution_count": 72,
   "metadata": {},
   "outputs": [],
   "source": [
    "trips<-trips['Trips.Thousands.']"
   ]
  },
  {
   "cell_type": "code",
   "execution_count": 73,
   "metadata": {},
   "outputs": [
    {
     "data": {
      "text/html": [
       "<table class=\"dataframe\">\n",
       "<caption>A data.frame: 6 × 1</caption>\n",
       "<thead>\n",
       "\t<tr><th></th><th scope=col>Trips.Thousands.</th></tr>\n",
       "\t<tr><th></th><th scope=col>&lt;dbl&gt;</th></tr>\n",
       "</thead>\n",
       "<tbody>\n",
       "\t<tr><th scope=row>1</th><td>1165.1</td></tr>\n",
       "\t<tr><th scope=row>2</th><td>1817.3</td></tr>\n",
       "\t<tr><th scope=row>3</th><td>2096.7</td></tr>\n",
       "\t<tr><th scope=row>4</th><td>1438.0</td></tr>\n",
       "\t<tr><th scope=row>5</th><td>1251.7</td></tr>\n",
       "\t<tr><th scope=row>6</th><td>1893.0</td></tr>\n",
       "</tbody>\n",
       "</table>\n"
      ],
      "text/latex": [
       "A data.frame: 6 × 1\n",
       "\\begin{tabular}{r|l}\n",
       "  & Trips.Thousands.\\\\\n",
       "  & <dbl>\\\\\n",
       "\\hline\n",
       "\t1 & 1165.1\\\\\n",
       "\t2 & 1817.3\\\\\n",
       "\t3 & 2096.7\\\\\n",
       "\t4 & 1438.0\\\\\n",
       "\t5 & 1251.7\\\\\n",
       "\t6 & 1893.0\\\\\n",
       "\\end{tabular}\n"
      ],
      "text/markdown": [
       "\n",
       "A data.frame: 6 × 1\n",
       "\n",
       "| <!--/--> | Trips.Thousands. &lt;dbl&gt; |\n",
       "|---|---|\n",
       "| 1 | 1165.1 |\n",
       "| 2 | 1817.3 |\n",
       "| 3 | 2096.7 |\n",
       "| 4 | 1438.0 |\n",
       "| 5 | 1251.7 |\n",
       "| 6 | 1893.0 |\n",
       "\n"
      ],
      "text/plain": [
       "  Trips.Thousands.\n",
       "1 1165.1          \n",
       "2 1817.3          \n",
       "3 2096.7          \n",
       "4 1438.0          \n",
       "5 1251.7          \n",
       "6 1893.0          "
      ]
     },
     "metadata": {},
     "output_type": "display_data"
    }
   ],
   "source": [
    "head(trips)"
   ]
  },
  {
   "cell_type": "code",
   "execution_count": 74,
   "metadata": {},
   "outputs": [],
   "source": [
    "trips <- ts(trips, start=c(2012,1), frequency=4)"
   ]
  },
  {
   "cell_type": "code",
   "execution_count": 75,
   "metadata": {},
   "outputs": [
    {
     "data": {
      "text/html": [
       "<table class=\"dataframe\">\n",
       "<caption>A Time Series: 8 × 4</caption>\n",
       "<thead>\n",
       "\t<tr><th></th><th scope=col>Qtr1</th><th scope=col>Qtr2</th><th scope=col>Qtr3</th><th scope=col>Qtr4</th></tr>\n",
       "</thead>\n",
       "<tbody>\n",
       "\t<tr><th scope=row>2012</th><td>1165.1</td><td>1817.3</td><td>2096.7</td><td>1438.0</td></tr>\n",
       "\t<tr><th scope=row>2013</th><td>1251.7</td><td>1893.0</td><td>2261.0</td><td>1580.1</td></tr>\n",
       "\t<tr><th scope=row>2014</th><td>1342.5</td><td>2126.6</td><td>2440.4</td><td>1694.9</td></tr>\n",
       "\t<tr><th scope=row>2015</th><td>1531.3</td><td>2344.9</td><td>2770.9</td><td>1995.9</td></tr>\n",
       "\t<tr><th scope=row>2016</th><td>1784.7</td><td>2598.9</td><td>3061.5</td><td>2139.2</td></tr>\n",
       "\t<tr><th scope=row>2017</th><td>1796.1</td><td>2769.4</td><td>3095.6</td><td>2270.9</td></tr>\n",
       "\t<tr><th scope=row>2018</th><td>1920.7</td><td>2951.9</td><td>3330.9</td><td>2412.8</td></tr>\n",
       "\t<tr><th scope=row>2019</th><td>2026.7</td><td>3021.8</td><td>3334.4</td><td>2424.6</td></tr>\n",
       "</tbody>\n",
       "</table>\n"
      ],
      "text/latex": [
       "A Time Series: 8 × 4\n",
       "\\begin{tabular}{r|llll}\n",
       "  & Qtr1 & Qtr2 & Qtr3 & Qtr4\\\\\n",
       "\\hline\n",
       "\t2012 & 1165.1 & 1817.3 & 2096.7 & 1438.0\\\\\n",
       "\t2013 & 1251.7 & 1893.0 & 2261.0 & 1580.1\\\\\n",
       "\t2014 & 1342.5 & 2126.6 & 2440.4 & 1694.9\\\\\n",
       "\t2015 & 1531.3 & 2344.9 & 2770.9 & 1995.9\\\\\n",
       "\t2016 & 1784.7 & 2598.9 & 3061.5 & 2139.2\\\\\n",
       "\t2017 & 1796.1 & 2769.4 & 3095.6 & 2270.9\\\\\n",
       "\t2018 & 1920.7 & 2951.9 & 3330.9 & 2412.8\\\\\n",
       "\t2019 & 2026.7 & 3021.8 & 3334.4 & 2424.6\\\\\n",
       "\\end{tabular}\n"
      ],
      "text/markdown": [
       "\n",
       "A Time Series: 8 × 4\n",
       "\n",
       "| <!--/--> | Qtr1 | Qtr2 | Qtr3 | Qtr4 |\n",
       "|---|---|---|---|---|\n",
       "| 2012 | 1165.1 | 1817.3 | 2096.7 | 1438.0 |\n",
       "| 2013 | 1251.7 | 1893.0 | 2261.0 | 1580.1 |\n",
       "| 2014 | 1342.5 | 2126.6 | 2440.4 | 1694.9 |\n",
       "| 2015 | 1531.3 | 2344.9 | 2770.9 | 1995.9 |\n",
       "| 2016 | 1784.7 | 2598.9 | 3061.5 | 2139.2 |\n",
       "| 2017 | 1796.1 | 2769.4 | 3095.6 | 2270.9 |\n",
       "| 2018 | 1920.7 | 2951.9 | 3330.9 | 2412.8 |\n",
       "| 2019 | 2026.7 | 3021.8 | 3334.4 | 2424.6 |\n",
       "\n"
      ],
      "text/plain": [
       "     Qtr1   Qtr2   Qtr3   Qtr4  \n",
       "2012 1165.1 1817.3 2096.7 1438.0\n",
       "2013 1251.7 1893.0 2261.0 1580.1\n",
       "2014 1342.5 2126.6 2440.4 1694.9\n",
       "2015 1531.3 2344.9 2770.9 1995.9\n",
       "2016 1784.7 2598.9 3061.5 2139.2\n",
       "2017 1796.1 2769.4 3095.6 2270.9\n",
       "2018 1920.7 2951.9 3330.9 2412.8\n",
       "2019 2026.7 3021.8 3334.4 2424.6"
      ]
     },
     "metadata": {},
     "output_type": "display_data"
    }
   ],
   "source": [
    "trips"
   ]
  },
  {
   "cell_type": "code",
   "execution_count": 76,
   "metadata": {},
   "outputs": [
    {
     "data": {
      "text/html": [
       "'ts'"
      ],
      "text/latex": [
       "'ts'"
      ],
      "text/markdown": [
       "'ts'"
      ],
      "text/plain": [
       "[1] \"ts\""
      ]
     },
     "metadata": {},
     "output_type": "display_data"
    }
   ],
   "source": [
    "class(trips)                                             "
   ]
  },
  {
   "cell_type": "code",
   "execution_count": 77,
   "metadata": {},
   "outputs": [
    {
     "data": {
      "text/html": [
       "<style>\n",
       ".list-inline {list-style: none; margin:0; padding: 0}\n",
       ".list-inline>li {display: inline-block}\n",
       ".list-inline>li:not(:last-child)::after {content: \"\\00b7\"; padding: 0 .5ex}\n",
       "</style>\n",
       "<ol class=list-inline><li>2012</li><li>1</li></ol>\n"
      ],
      "text/latex": [
       "\\begin{enumerate*}\n",
       "\\item 2012\n",
       "\\item 1\n",
       "\\end{enumerate*}\n"
      ],
      "text/markdown": [
       "1. 2012\n",
       "2. 1\n",
       "\n",
       "\n"
      ],
      "text/plain": [
       "[1] 2012    1"
      ]
     },
     "metadata": {},
     "output_type": "display_data"
    }
   ],
   "source": [
    "start(trips)"
   ]
  },
  {
   "cell_type": "code",
   "execution_count": 78,
   "metadata": {},
   "outputs": [
    {
     "data": {
      "text/html": [
       "<style>\n",
       ".list-inline {list-style: none; margin:0; padding: 0}\n",
       ".list-inline>li {display: inline-block}\n",
       ".list-inline>li:not(:last-child)::after {content: \"\\00b7\"; padding: 0 .5ex}\n",
       "</style>\n",
       "<ol class=list-inline><li>2019</li><li>4</li></ol>\n"
      ],
      "text/latex": [
       "\\begin{enumerate*}\n",
       "\\item 2019\n",
       "\\item 4\n",
       "\\end{enumerate*}\n"
      ],
      "text/markdown": [
       "1. 2019\n",
       "2. 4\n",
       "\n",
       "\n"
      ],
      "text/plain": [
       "[1] 2019    4"
      ]
     },
     "metadata": {},
     "output_type": "display_data"
    }
   ],
   "source": [
    "end(trips)"
   ]
  },
  {
   "cell_type": "code",
   "execution_count": 79,
   "metadata": {},
   "outputs": [
    {
     "data": {
      "text/html": [
       "4"
      ],
      "text/latex": [
       "4"
      ],
      "text/markdown": [
       "4"
      ],
      "text/plain": [
       "[1] 4"
      ]
     },
     "metadata": {},
     "output_type": "display_data"
    }
   ],
   "source": [
    "frequency(trips)"
   ]
  },
  {
   "cell_type": "markdown",
   "metadata": {},
   "source": [
    "# Assessment of the components of the raw time series."
   ]
  },
  {
   "cell_type": "code",
   "execution_count": 12,
   "metadata": {
    "scrolled": true
   },
   "outputs": [
    {
     "data": {
      "image/png": "[encoded data removed]",
      "text/plain": [
       "Plot with title \"OverseaTrips Plot\""
      ]
     },
     "metadata": {
      "image/png": {
       "height": 420,
       "width": 420
      }
     },
     "output_type": "display_data"
    }
   ],
   "source": [
    "plot(trips, main=\"OverseaTrips Plot\")"
   ]
  },
  {
   "cell_type": "markdown",
   "metadata": {},
   "source": [
    "The boxplot per month shows us the pattern of the yearly cycle (**Note:** `cycle` is a utility that numbers the data items cyclic according to frequency)"
   ]
  },
  {
   "cell_type": "code",
   "execution_count": 13,
   "metadata": {},
   "outputs": [
    {
     "data": {
      "image/png": "[encoded data removed]",
      "text/plain": [
       "Plot with title \"OverseaTrips Seasonality  Boxplot\""
      ]
     },
     "metadata": {
      "image/png": {
       "height": 420,
       "width": 420
      }
     },
     "output_type": "display_data"
    }
   ],
   "source": [
    "boxplot(trips~cycle(trips), col='lightblue',main=\"OverseaTrips Seasonality  Boxplot\")"
   ]
  },
  {
   "cell_type": "markdown",
   "metadata": {},
   "source": [
    "The boxplot per year gives us a summary of the trend over the years. (**Note:** Time is a floating point variable that interpolates the time interval between the years. `floor` cuts it down to the actual year.)"
   ]
  },
  {
   "cell_type": "code",
   "execution_count": 14,
   "metadata": {},
   "outputs": [
    {
     "data": {
      "image/png": "[encoded data removed]",
      "text/plain": [
       "Plot with title \"OverseaTrips Yearly Boxplot\""
      ]
     },
     "metadata": {
      "image/png": {
       "height": 420,
       "width": 420
      }
     },
     "output_type": "display_data"
    }
   ],
   "source": [
    "boxplot(trips~floor(time(trips)), col='lightblue', main=\"OverseaTrips Yearly Boxplot\") "
   ]
  },
  {
   "cell_type": "markdown",
   "metadata": {},
   "source": [
    "## Seasonal Plots"
   ]
  },
  {
   "cell_type": "code",
   "execution_count": 14,
   "metadata": {},
   "outputs": [
    {
     "name": "stderr",
     "output_type": "stream",
     "text": [
      "Warning message:\n",
      "\"package 'forecast' was built under R version 4.0.4\"\n",
      "Registered S3 method overwritten by 'quantmod':\n",
      "  method            from\n",
      "  as.zoo.data.frame zoo \n",
      "\n",
      "Warning message:\n",
      "\"package 'ggplot2' was built under R version 4.0.4\"\n"
     ]
    }
   ],
   "source": [
    "library(forecast)\n",
    "library(ggplot2)"
   ]
  },
  {
   "cell_type": "markdown",
   "metadata": {},
   "source": [
    "The Seasonal plot shows the data plotted against the individual seasons in which the data were observed:"
   ]
  },
  {
   "cell_type": "code",
   "execution_count": 15,
   "metadata": {
    "scrolled": true
   },
   "outputs": [
    {
     "data": {
      "image/png": "[encoded data removed]",
      "text/plain": [
       "plot without title"
      ]
     },
     "metadata": {
      "image/png": {
       "height": 420,
       "width": 420
      }
     },
     "output_type": "display_data"
    }
   ],
   "source": [
    "ggseasonplot(trips, year.labels=TRUE, years.labels.left=TRUE)+ylab('Trips')+ggtitle('Seasonal Plot: Trips')"
   ]
  },
  {
   "cell_type": "markdown",
   "metadata": {},
   "source": [
    "## Seasonal subseries plots"
   ]
  },
  {
   "cell_type": "markdown",
   "metadata": {},
   "source": [
    "The data for each season are collected togerher in separate mini plots. The orizontal line indicates the mean of each quarter. Each of the 4 oblique lines contain the data of each season each year"
   ]
  },
  {
   "cell_type": "code",
   "execution_count": 16,
   "metadata": {},
   "outputs": [
    {
     "data": {
      "image/png": "[encoded data removed]",
      "text/plain": [
       "plot without title"
      ]
     },
     "metadata": {
      "image/png": {
       "height": 420,
       "width": 420
      }
     },
     "output_type": "display_data"
    }
   ],
   "source": [
    "ggsubseriesplot(trips)+ylab('Trips')+ggtitle('Seasonal subseries plot: Trips')\n",
    "# or simply monthplot(trips)"
   ]
  },
  {
   "cell_type": "markdown",
   "metadata": {},
   "source": [
    "## Seasonal Decomposition using Decompose multiplicative"
   ]
  },
  {
   "cell_type": "markdown",
   "metadata": {},
   "source": [
    "Since the size of the fluttuations in the late years is bigger than the one in the early years, we use the multiplicative model"
   ]
  },
  {
   "cell_type": "code",
   "execution_count": 16,
   "metadata": {},
   "outputs": [
    {
     "data": {
      "text/plain": [
       "$x\n",
       "       Qtr1   Qtr2   Qtr3   Qtr4\n",
       "2012 1165.1 1817.3 2096.7 1438.0\n",
       "2013 1251.7 1893.0 2261.0 1580.1\n",
       "2014 1342.5 2126.6 2440.4 1694.9\n",
       "2015 1531.3 2344.9 2770.9 1995.9\n",
       "2016 1784.7 2598.9 3061.5 2139.2\n",
       "2017 1796.1 2769.4 3095.6 2270.9\n",
       "2018 1920.7 2951.9 3330.9 2412.8\n",
       "2019 2026.7 3021.8 3334.4 2424.6\n",
       "\n",
       "$seasonal\n",
       "          Qtr1      Qtr2      Qtr3      Qtr4\n",
       "2012 0.7439227 1.1109252 1.2651479 0.8800042\n",
       "2013 0.7439227 1.1109252 1.2651479 0.8800042\n",
       "2014 0.7439227 1.1109252 1.2651479 0.8800042\n",
       "2015 0.7439227 1.1109252 1.2651479 0.8800042\n",
       "2016 0.7439227 1.1109252 1.2651479 0.8800042\n",
       "2017 0.7439227 1.1109252 1.2651479 0.8800042\n",
       "2018 0.7439227 1.1109252 1.2651479 0.8800042\n",
       "2019 0.7439227 1.1109252 1.2651479 0.8800042\n",
       "\n",
       "$trend\n",
       "         Qtr1     Qtr2     Qtr3     Qtr4\n",
       "2012       NA       NA 1640.100 1660.387\n",
       "2013 1690.387 1728.688 1757.800 1798.350\n",
       "2014 1849.975 1886.750 1924.700 1975.587\n",
       "2015 2044.188 2123.125 2192.425 2255.850\n",
       "2016 2323.925 2378.163 2397.500 2420.238\n",
       "2017 2445.812 2466.538 2498.575 2536.963\n",
       "2018 2589.188 2636.338 2667.325 2689.313\n",
       "2019 2698.488 2700.400       NA       NA\n",
       "\n",
       "$random\n",
       "          Qtr1      Qtr2      Qtr3      Qtr4\n",
       "2012        NA        NA 1.0104729 0.9841577\n",
       "2013 0.9953737 0.9857103 1.0166929 0.9984483\n",
       "2014 0.9754851 1.0145808 1.0022053 0.9749067\n",
       "2015 1.0069589 0.9941775 0.9989755 1.0054114\n",
       "2016 1.0323223 0.9837012 1.0093327 1.0044045\n",
       "2017 0.9871418 1.0106788 0.9792896 1.0171833\n",
       "2018 0.9971678 1.0078962 0.9870619 1.0195189\n",
       "2019 1.0095812 1.0072860        NA        NA\n",
       "\n",
       "$figure\n",
       "[1] 0.7439227 1.1109252 1.2651479 0.8800042\n",
       "\n",
       "$type\n",
       "[1] \"multiplicative\"\n",
       "\n",
       "attr(,\"class\")\n",
       "[1] \"decomposed.ts\""
      ]
     },
     "metadata": {},
     "output_type": "display_data"
    },
    {
     "data": {
      "image/png": "[encoded data removed]",
      "text/plain": [
       "plot without title"
      ]
     },
     "metadata": {
      "image/png": {
       "height": 420,
       "width": 420
      }
     },
     "output_type": "display_data"
    }
   ],
   "source": [
    "fit.decmult<-decompose(trips,type='multiplicative')\n",
    "fit.decmult\n",
    "plot(fit.decmult)"
   ]
  },
  {
   "cell_type": "markdown",
   "metadata": {},
   "source": [
    "- Fit a minimum of three candidate time series models (simple models, exponential smoothing models and non-seasonal and/or seasonal ARIMA models).\n",
    "\n",
    "- Perform and explain the appropriate diagnostic tests and checks and describe the rationale for your choice of ‘optimum’ model for each series. \n",
    "\n",
    "- Forecast each series for three periods ahead with appropriate prediction intervals and illustrative graphics and provide your assessment of the adequacy of the chosen model."
   ]
  },
  {
   "cell_type": "markdown",
   "metadata": {},
   "source": [
    "# Forecasting Using Mean Model"
   ]
  },
  {
   "cell_type": "code",
   "execution_count": 66,
   "metadata": {},
   "outputs": [],
   "source": [
    "library(fpp2)"
   ]
  },
  {
   "cell_type": "code",
   "execution_count": 67,
   "metadata": {},
   "outputs": [
    {
     "data": {
      "text/plain": [
       "        Point Forecast    Lo 80    Hi 80    Lo 95    Hi 95\n",
       "2020 Q1       2209.075 1400.589 3017.561 949.8425 3468.308\n",
       "2020 Q2       2209.075 1400.589 3017.561 949.8425 3468.308\n",
       "2020 Q3       2209.075 1400.589 3017.561 949.8425 3468.308"
      ]
     },
     "metadata": {},
     "output_type": "display_data"
    }
   ],
   "source": [
    "fcast.mean<-meanf(trips,h=3)\n",
    "fcast.mean"
   ]
  },
  {
   "cell_type": "code",
   "execution_count": 68,
   "metadata": {},
   "outputs": [
    {
     "data": {
      "image/png": "[encoded data removed]",
      "text/plain": [
       "Plot with title \"Forecasts from Mean\""
      ]
     },
     "metadata": {
      "image/png": {
       "height": 420,
       "width": 420
      }
     },
     "output_type": "display_data"
    }
   ],
   "source": [
    "plot(fcast.mean)"
   ]
  },
  {
   "cell_type": "code",
   "execution_count": 69,
   "metadata": {},
   "outputs": [
    {
     "name": "stdout",
     "output_type": "stream",
     "text": [
      "\n",
      "Forecast method: Mean\n",
      "\n",
      "Model Information:\n",
      "$mu\n",
      "[1] 2209.075\n",
      "\n",
      "$mu.se\n",
      "[1] 107.4787\n",
      "\n",
      "$sd\n",
      "[1] 607.9913\n",
      "\n",
      "$bootstrap\n",
      "[1] FALSE\n",
      "\n",
      "$call\n",
      "meanf(y = trips, h = 3)\n",
      "\n",
      "attr(,\"class\")\n",
      "[1] \"meanf\"\n",
      "\n",
      "Error measures:\n",
      "                      ME    RMSE      MAE       MPE     MAPE     MASE      ACF1\n",
      "Training set 1.98952e-13 598.416 497.1109 -8.180872 24.99967 3.244244 0.3989124\n",
      "\n",
      "Forecasts:\n",
      "        Point Forecast    Lo 80    Hi 80    Lo 95    Hi 95\n",
      "2020 Q1       2209.075 1400.589 3017.561 949.8425 3468.308\n",
      "2020 Q2       2209.075 1400.589 3017.561 949.8425 3468.308\n",
      "2020 Q3       2209.075 1400.589 3017.561 949.8425 3468.308\n"
     ]
    }
   ],
   "source": [
    "summary(fcast.mean)"
   ]
  },
  {
   "cell_type": "code",
   "execution_count": 21,
   "metadata": {},
   "outputs": [
    {
     "data": {
      "image/png": "[encoded data removed]",
      "text/plain": [
       "Plot with title \"Normal Q-Q Plot\""
      ]
     },
     "metadata": {
      "image/png": {
       "height": 420,
       "width": 420
      }
     },
     "output_type": "display_data"
    }
   ],
   "source": [
    "qqnorm(fcast.mean$residuals)\n",
    "qqline(fcast.mean$residuals)"
   ]
  },
  {
   "cell_type": "code",
   "execution_count": 22,
   "metadata": {},
   "outputs": [
    {
     "data": {
      "text/html": [
       "<style>\n",
       ".list-inline {list-style: none; margin:0; padding: 0}\n",
       ".list-inline>li {display: inline-block}\n",
       ".list-inline>li:not(:last-child)::after {content: \"\\00b7\"; padding: 0 .5ex}\n",
       "</style>\n",
       "<ol class=list-inline><li>'method'</li><li>'level'</li><li>'x'</li><li>'series'</li><li>'mean'</li><li>'lower'</li><li>'upper'</li><li>'model'</li><li>'lambda'</li><li>'fitted'</li><li>'residuals'</li></ol>\n"
      ],
      "text/latex": [
       "\\begin{enumerate*}\n",
       "\\item 'method'\n",
       "\\item 'level'\n",
       "\\item 'x'\n",
       "\\item 'series'\n",
       "\\item 'mean'\n",
       "\\item 'lower'\n",
       "\\item 'upper'\n",
       "\\item 'model'\n",
       "\\item 'lambda'\n",
       "\\item 'fitted'\n",
       "\\item 'residuals'\n",
       "\\end{enumerate*}\n"
      ],
      "text/markdown": [
       "1. 'method'\n",
       "2. 'level'\n",
       "3. 'x'\n",
       "4. 'series'\n",
       "5. 'mean'\n",
       "6. 'lower'\n",
       "7. 'upper'\n",
       "8. 'model'\n",
       "9. 'lambda'\n",
       "10. 'fitted'\n",
       "11. 'residuals'\n",
       "\n",
       "\n"
      ],
      "text/plain": [
       " [1] \"method\"    \"level\"     \"x\"         \"series\"    \"mean\"      \"lower\"    \n",
       " [7] \"upper\"     \"model\"     \"lambda\"    \"fitted\"    \"residuals\""
      ]
     },
     "metadata": {},
     "output_type": "display_data"
    }
   ],
   "source": [
    "names(fcast.mean)"
   ]
  },
  {
   "cell_type": "code",
   "execution_count": 53,
   "metadata": {},
   "outputs": [
    {
     "data": {
      "text/html": [
       "497.1109375"
      ],
      "text/latex": [
       "497.1109375"
      ],
      "text/markdown": [
       "497.1109375"
      ],
      "text/plain": [
       "[1] 497.1109"
      ]
     },
     "metadata": {},
     "output_type": "display_data"
    }
   ],
   "source": [
    "mean(abs(residuals(fcast.mean)))"
   ]
  },
  {
   "cell_type": "markdown",
   "metadata": {},
   "source": [
    "# Forcasting Using Naive Model"
   ]
  },
  {
   "cell_type": "code",
   "execution_count": 24,
   "metadata": {},
   "outputs": [
    {
     "data": {
      "text/plain": [
       "        Point Forecast    Lo 80    Hi 80     Lo 95    Hi 95\n",
       "2020 Q1         2424.6 1606.279 3242.921 1173.0863 3676.114\n",
       "2020 Q2         2424.6 1267.320 3581.880  654.6923 4194.508\n",
       "2020 Q3         2424.6 1007.227 3841.973  256.9146 4592.285"
      ]
     },
     "metadata": {},
     "output_type": "display_data"
    }
   ],
   "source": [
    "fcast.naive<-naive(trips,h=3)\n",
    "fcast.naive"
   ]
  },
  {
   "cell_type": "code",
   "execution_count": 25,
   "metadata": {},
   "outputs": [
    {
     "data": {
      "image/png": "[encoded data removed]",
      "text/plain": [
       "Plot with title \"Forecasts from Naive method\""
      ]
     },
     "metadata": {
      "image/png": {
       "height": 420,
       "width": 420
      }
     },
     "output_type": "display_data"
    }
   ],
   "source": [
    "plot(fcast.naive)"
   ]
  },
  {
   "cell_type": "code",
   "execution_count": 26,
   "metadata": {},
   "outputs": [
    {
     "name": "stdout",
     "output_type": "stream",
     "text": [
      "\n",
      "Forecast method: Naive method\n",
      "\n",
      "Model Information:\n",
      "Call: naive(y = trips, h = 3) \n",
      "\n",
      "Residual sd: 638.5391 \n",
      "\n",
      "Error measures:\n",
      "                   ME     RMSE      MAE      MPE     MAPE     MASE        ACF1\n",
      "Training set 40.62903 638.5391 576.9581 -1.88058 26.39067 3.765343 -0.01138884\n",
      "\n",
      "Forecasts:\n",
      "        Point Forecast    Lo 80    Hi 80     Lo 95    Hi 95\n",
      "2020 Q1         2424.6 1606.279 3242.921 1173.0863 3676.114\n",
      "2020 Q2         2424.6 1267.320 3581.880  654.6923 4194.508\n",
      "2020 Q3         2424.6 1007.227 3841.973  256.9146 4592.285\n"
     ]
    }
   ],
   "source": [
    "summary(fcast.naive)"
   ]
  },
  {
   "cell_type": "code",
   "execution_count": 27,
   "metadata": {},
   "outputs": [
    {
     "data": {
      "image/png": "[encoded data removed]",
      "text/plain": [
       "Plot with title \"Normal Q-Q Plot\""
      ]
     },
     "metadata": {
      "image/png": {
       "height": 420,
       "width": 420
      }
     },
     "output_type": "display_data"
    }
   ],
   "source": [
    "qqnorm(fcast.naive$residuals)\n",
    "qqline(fcast.naive$residuals)"
   ]
  },
  {
   "cell_type": "markdown",
   "metadata": {},
   "source": [
    "# Forecasting Using Seasonal Naive Model"
   ]
  },
  {
   "cell_type": "code",
   "execution_count": 28,
   "metadata": {},
   "outputs": [
    {
     "data": {
      "text/plain": [
       "        Point Forecast    Lo 80    Hi 80    Lo 95    Hi 95\n",
       "2020 Q1         2026.7 1800.313 2253.087 1680.471 2372.929\n",
       "2020 Q2         3021.8 2795.413 3248.187 2675.571 3368.029\n",
       "2020 Q3         3334.4 3108.013 3560.787 2988.171 3680.629\n",
       "2020 Q4         2424.6 2198.213 2650.987 2078.371 2770.829"
      ]
     },
     "metadata": {},
     "output_type": "display_data"
    }
   ],
   "source": [
    "fcast.seasonalnaive<-snaive(trips,h=4)\n",
    "fcast.seasonalnaive"
   ]
  },
  {
   "cell_type": "code",
   "execution_count": 29,
   "metadata": {},
   "outputs": [
    {
     "data": {
      "image/png": "[encoded data removed]",
      "text/plain": [
       "Plot with title \"Forecasts from Seasonal naive method\""
      ]
     },
     "metadata": {
      "image/png": {
       "height": 420,
       "width": 420
      }
     },
     "output_type": "display_data"
    }
   ],
   "source": [
    "plot(fcast.seasonalnaive)"
   ]
  },
  {
   "cell_type": "code",
   "execution_count": 30,
   "metadata": {},
   "outputs": [
    {
     "name": "stdout",
     "output_type": "stream",
     "text": [
      "\n",
      "Forecast method: Seasonal naive method\n",
      "\n",
      "Model Information:\n",
      "Call: snaive(y = trips, h = 4) \n",
      "\n",
      "Residual sd: 176.6505 \n",
      "\n",
      "Error measures:\n",
      "                   ME     RMSE      MAE      MPE     MAPE MASE      ACF1\n",
      "Training set 153.2286 176.6505 153.2286 6.975085 6.975085    1 0.5355186\n",
      "\n",
      "Forecasts:\n",
      "        Point Forecast    Lo 80    Hi 80    Lo 95    Hi 95\n",
      "2020 Q1         2026.7 1800.313 2253.087 1680.471 2372.929\n",
      "2020 Q2         3021.8 2795.413 3248.187 2675.571 3368.029\n",
      "2020 Q3         3334.4 3108.013 3560.787 2988.171 3680.629\n",
      "2020 Q4         2424.6 2198.213 2650.987 2078.371 2770.829\n"
     ]
    }
   ],
   "source": [
    "summary(fcast.seasonalnaive)"
   ]
  },
  {
   "cell_type": "code",
   "execution_count": 31,
   "metadata": {},
   "outputs": [
    {
     "data": {
      "image/png": "[encoded data removed]",
      "text/plain": [
       "Plot with title \"Normal Q-Q Plot\""
      ]
     },
     "metadata": {
      "image/png": {
       "height": 420,
       "width": 420
      }
     },
     "output_type": "display_data"
    }
   ],
   "source": [
    "qqnorm(fcast.seasonalnaive$residuals)\n",
    "qqline(fcast.seasonalnaive$residuals)"
   ]
  },
  {
   "cell_type": "markdown",
   "metadata": {},
   "source": [
    "# Forecasting Using Simple Exponential Smoothing"
   ]
  },
  {
   "cell_type": "markdown",
   "metadata": {},
   "source": [
    "# Forecast Using Drift Model"
   ]
  },
  {
   "cell_type": "code",
   "execution_count": 32,
   "metadata": {},
   "outputs": [
    {
     "data": {
      "text/plain": [
       "         Point Forecast    Lo 80    Hi 80    Lo 95    Hi 95\n",
       "Sep 1995       100635.0 84597.43 116672.6 76107.64 125162.4\n",
       "Oct 1995       100764.1 78022.90 123505.2 65984.47 135543.6\n",
       "Nov 1995       100893.1 72967.00 128819.2 58183.82 143602.3\n",
       "Dec 1995       101022.1 68690.65 133353.6 51575.41 150468.8"
      ]
     },
     "metadata": {},
     "output_type": "display_data"
    },
    {
     "data": {
      "image/png": "[encoded data removed]",
      "text/plain": [
       "Plot with title \"Forecasts from Random walk with drift\""
      ]
     },
     "metadata": {
      "image/png": {
       "height": 420,
       "width": 420
      }
     },
     "output_type": "display_data"
    }
   ],
   "source": [
    "fcast.drift<-rwf(pigs,h=4, drift=TRUE)\n",
    "fcast.drift\n",
    "plot(fcast.drift)"
   ]
  },
  {
   "cell_type": "code",
   "execution_count": 33,
   "metadata": {},
   "outputs": [
    {
     "data": {
      "text/html": [
       "<table class=\"dataframe\">\n",
       "<caption>A matrix: 1 × 7 of type dbl</caption>\n",
       "<thead>\n",
       "\t<tr><th></th><th scope=col>ME</th><th scope=col>RMSE</th><th scope=col>MAE</th><th scope=col>MPE</th><th scope=col>MAPE</th><th scope=col>MASE</th><th scope=col>ACF1</th></tr>\n",
       "</thead>\n",
       "<tbody>\n",
       "\t<tr><th scope=row>Training set</th><td>9.337462e-13</td><td>12480.7</td><td>9431.191</td><td>-1.204473</td><td>10.95713</td><td>0.9436955</td><td>-0.4292465</td></tr>\n",
       "</tbody>\n",
       "</table>\n"
      ],
      "text/latex": [
       "A matrix: 1 × 7 of type dbl\n",
       "\\begin{tabular}{r|lllllll}\n",
       "  & ME & RMSE & MAE & MPE & MAPE & MASE & ACF1\\\\\n",
       "\\hline\n",
       "\tTraining set & 9.337462e-13 & 12480.7 & 9431.191 & -1.204473 & 10.95713 & 0.9436955 & -0.4292465\\\\\n",
       "\\end{tabular}\n"
      ],
      "text/markdown": [
       "\n",
       "A matrix: 1 × 7 of type dbl\n",
       "\n",
       "| <!--/--> | ME | RMSE | MAE | MPE | MAPE | MASE | ACF1 |\n",
       "|---|---|---|---|---|---|---|---|\n",
       "| Training set | 9.337462e-13 | 12480.7 | 9431.191 | -1.204473 | 10.95713 | 0.9436955 | -0.4292465 |\n",
       "\n"
      ],
      "text/plain": [
       "             ME           RMSE    MAE      MPE       MAPE     MASE     \n",
       "Training set 9.337462e-13 12480.7 9431.191 -1.204473 10.95713 0.9436955\n",
       "             ACF1      \n",
       "Training set -0.4292465"
      ]
     },
     "metadata": {},
     "output_type": "display_data"
    }
   ],
   "source": [
    "accuracy(fcast.drift)"
   ]
  },
  {
   "cell_type": "code",
   "execution_count": 34,
   "metadata": {},
   "outputs": [
    {
     "data": {
      "image/png": "[encoded data removed]",
      "text/plain": [
       "Plot with title \"Normal Q-Q Plot\""
      ]
     },
     "metadata": {
      "image/png": {
       "height": 420,
       "width": 420
      }
     },
     "output_type": "display_data"
    }
   ],
   "source": [
    "qqnorm(fcast.drift$residuals)\n",
    "qqline(fcast.drift$residuals)"
   ]
  },
  {
   "cell_type": "code",
   "execution_count": 35,
   "metadata": {},
   "outputs": [
    {
     "data": {
      "text/plain": [
       "\n",
       "\tBox-Ljung test\n",
       "\n",
       "data:  fcast.drift$residuals\n",
       "X-squared = 35.011, df = 1, p-value = 3.279e-09\n"
      ]
     },
     "metadata": {},
     "output_type": "display_data"
    }
   ],
   "source": [
    "Box.test(fcast.drift$residuals, type='Ljung-Box')"
   ]
  },
  {
   "cell_type": "markdown",
   "metadata": {},
   "source": [
    "# Linear Model"
   ]
  },
  {
   "cell_type": "code",
   "execution_count": 36,
   "metadata": {},
   "outputs": [],
   "source": [
    "tripsLM <- lm(trips~time(trips))"
   ]
  },
  {
   "cell_type": "code",
   "execution_count": 37,
   "metadata": {},
   "outputs": [
    {
     "data": {
      "image/png": "[encoded data removed]",
      "text/plain": [
       "plot without title"
      ]
     },
     "metadata": {
      "image/png": {
       "height": 420,
       "width": 420
      }
     },
     "output_type": "display_data"
    }
   ],
   "source": [
    "plot(trips, col='blue')\n",
    "x <- as.vector(time(trips))\n",
    "y <- predict.lm(tripsLM)\n",
    "lines(x, y, col='red', lw=4)"
   ]
  },
  {
   "cell_type": "code",
   "execution_count": null,
   "metadata": {},
   "outputs": [],
   "source": []
  },
  {
   "cell_type": "markdown",
   "metadata": {},
   "source": [
    "# Moving Averages"
   ]
  },
  {
   "cell_type": "markdown",
   "metadata": {},
   "source": [
    "An overlay plot shows how the moving average can be used to smooth out the seasonal element:"
   ]
  },
  {
   "cell_type": "code",
   "execution_count": 38,
   "metadata": {},
   "outputs": [
    {
     "data": {
      "image/png": "[encoded data removed]",
      "text/plain": [
       "plot without title"
      ]
     },
     "metadata": {
      "image/png": {
       "height": 420,
       "width": 420
      }
     },
     "output_type": "display_data"
    }
   ],
   "source": [
    "plot(trips, col='blue')\n",
    "x <- as.vector(time(trips))\n",
    "y <- ma(trips, order=6)\n",
    "lines(x, y, col='red', lw=4)\n",
    "y <- ma(trips, order=24)\n",
    "lines(x, y, col='black', lw=4)"
   ]
  },
  {
   "cell_type": "markdown",
   "metadata": {},
   "source": [
    "An overlay of the linear model with the above trendline from the moving averages looks like this:"
   ]
  },
  {
   "cell_type": "code",
   "execution_count": 39,
   "metadata": {},
   "outputs": [
    {
     "data": {
      "image/png": "[encoded data removed]",
      "text/plain": [
       "plot without title"
      ]
     },
     "metadata": {
      "image/png": {
       "height": 420,
       "width": 420
      }
     },
     "output_type": "display_data"
    }
   ],
   "source": [
    "plot(trips, col='blue')\n",
    "x <- as.vector(time(trips))\n",
    "y <- predict.lm(tripsLM)\n",
    "lines(x, y, col='red', lw=4)\n",
    "y <- ma(trips, order=24)\n",
    "lines(x, y, col='black', lw=4)"
   ]
  },
  {
   "cell_type": "markdown",
   "metadata": {},
   "source": [
    "# Logarithmic Model"
   ]
  },
  {
   "cell_type": "code",
   "execution_count": 40,
   "metadata": {},
   "outputs": [],
   "source": [
    "logtrips <- log(trips)"
   ]
  },
  {
   "cell_type": "code",
   "execution_count": 41,
   "metadata": {},
   "outputs": [
    {
     "data": {
      "image/png": "[encoded data removed]",
      "text/plain": [
       "plot without title"
      ]
     },
     "metadata": {
      "image/png": {
       "height": 420,
       "width": 420
      }
     },
     "output_type": "display_data"
    }
   ],
   "source": [
    "plot(logtrips, col='blue')\n",
    "x <- as.vector(time(logtrips))\n",
    "y <- predict.lm(tripsLM)\n",
    "lines(x, y, col='red', lw=4)"
   ]
  },
  {
   "cell_type": "markdown",
   "metadata": {},
   "source": [
    "# Exponential smoothing model"
   ]
  },
  {
   "cell_type": "markdown",
   "metadata": {},
   "source": [
    "- Since the time serie has level, trend and seasonal components, we usea triple exponential model, Holt-Winters exponential smoothing\n",
    "\n",
    "- Since the fluttuations in the end of the graph are bigger than in the beginning, we use the multiplicative version\n",
    "- The plot contains the confidence interval of 80 and 95%"
   ]
  },
  {
   "cell_type": "code",
   "execution_count": 80,
   "metadata": {},
   "outputs": [
    {
     "name": "stdout",
     "output_type": "stream",
     "text": [
      "\n",
      "Forecast method: Holt-Winters' additive method\n",
      "\n",
      "Model Information:\n",
      "Holt-Winters' additive method \n",
      "\n",
      "Call:\n",
      " hw(y = trips, seasonal = \"additive\") \n",
      "\n",
      "  Smoothing parameters:\n",
      "    alpha = 0.3321 \n",
      "    beta  = 3e-04 \n",
      "    gamma = 0.6679 \n",
      "\n",
      "  Initial states:\n",
      "    l = 1596.4304 \n",
      "    b = 32.9458 \n",
      "    s = -262.2796 569.9213 239.1474 -546.789\n",
      "\n",
      "  sigma:  88.4542\n",
      "\n",
      "     AIC     AICc      BIC \n",
      "406.5767 414.7586 419.7684 \n",
      "\n",
      "Error measures:\n",
      "                   ME     RMSE     MAE       MPE     MAPE      MASE     ACF1\n",
      "Training set 4.269922 76.60357 63.3862 0.1208015 2.965039 0.4136709 0.176433\n",
      "\n",
      "Forecasts:\n",
      "        Point Forecast    Lo 80    Hi 80    Lo 95    Hi 95\n",
      "2020 Q1       2095.228 1981.869 2208.587 1921.861 2268.595\n",
      "2020 Q2       3109.465 2990.011 3228.919 2926.776 3292.154\n",
      "2020 Q3       3448.493 3323.231 3573.755 3256.921 3640.065\n",
      "2020 Q4       2556.527 2425.706 2687.347 2356.453 2756.600\n",
      "2021 Q1       2227.155 2053.975 2400.334 1962.299 2492.010\n",
      "2021 Q2       3241.392 3064.137 3418.647 2970.304 3512.480\n",
      "2021 Q3       3580.420 3399.175 3761.664 3303.230 3857.609\n",
      "2021 Q4       2688.453 2503.299 2873.608 2405.284 2971.622\n"
     ]
    }
   ],
   "source": [
    "fitAdd <- hw(trips, seasonal='additive')\n",
    "summary(fitAdd)"
   ]
  },
  {
   "cell_type": "code",
   "execution_count": 81,
   "metadata": {},
   "outputs": [
    {
     "data": {
      "text/html": [
       "63.386199609152"
      ],
      "text/latex": [
       "63.386199609152"
      ],
      "text/markdown": [
       "63.386199609152"
      ],
      "text/plain": [
       "[1] 63.3862"
      ]
     },
     "metadata": {},
     "output_type": "display_data"
    }
   ],
   "source": [
    "mean(abs(residuals(fitAdd)))"
   ]
  },
  {
   "cell_type": "code",
   "execution_count": 82,
   "metadata": {},
   "outputs": [
    {
     "name": "stderr",
     "output_type": "stream",
     "text": [
      "Warning message:\n",
      "\"Ignoring unknown parameters: main\"\n"
     ]
    },
    {
     "data": {
      "image/png": "[encoded data removed]",
      "text/plain": [
       "plot without title"
      ]
     },
     "metadata": {
      "image/png": {
       "height": 420,
       "width": 420
      }
     },
     "output_type": "display_data"
    }
   ],
   "source": [
    "fitMult <- hw(trips, seasonal='multiplicative')\n",
    "autoplot(trips)+autolayer(fitMult, main=\"Holt Winter Multiplicative Forecast\")"
   ]
  },
  {
   "cell_type": "code",
   "execution_count": 83,
   "metadata": {},
   "outputs": [
    {
     "name": "stdout",
     "output_type": "stream",
     "text": [
      "\n",
      "Forecast method: Holt-Winters' multiplicative method\n",
      "\n",
      "Model Information:\n",
      "Holt-Winters' multiplicative method \n",
      "\n",
      "Call:\n",
      " hw(y = trips, seasonal = \"multiplicative\") \n",
      "\n",
      "  Smoothing parameters:\n",
      "    alpha = 0.0172 \n",
      "    beta  = 0.002 \n",
      "    gamma = 1e-04 \n",
      "\n",
      "  Initial states:\n",
      "    l = 1544.9426 \n",
      "    b = 42.1401 \n",
      "    s = 0.8811 1.2516 1.116 0.7513\n",
      "\n",
      "  sigma:  0.0384\n",
      "\n",
      "     AIC     AICc      BIC \n",
      "402.0749 410.2567 415.2665 \n",
      "\n",
      "Error measures:\n",
      "                    ME     RMSE      MAE       MPE     MAPE      MASE      ACF1\n",
      "Training set -16.59663 72.44923 57.49647 -1.052437 2.753433 0.3752334 0.6343327\n",
      "\n",
      "Forecasts:\n",
      "        Point Forecast    Lo 80    Hi 80    Lo 95    Hi 95\n",
      "2020 Q1       2180.207 2072.930 2287.483 2016.141 2344.272\n",
      "2020 Q2       3284.157 3122.532 3445.782 3036.973 3531.342\n",
      "2020 Q3       3734.601 3550.769 3918.432 3453.454 4015.747\n",
      "2020 Q4       2665.314 2534.085 2796.544 2464.616 2866.013\n",
      "2021 Q1       2303.393 2189.951 2416.836 2129.898 2476.889\n",
      "2021 Q2       3467.136 3296.324 3637.948 3205.901 3728.370\n",
      "2021 Q3       3939.817 3745.648 4133.986 3642.861 4236.773\n",
      "2021 Q4       2809.789 2671.256 2948.321 2597.921 3021.656\n"
     ]
    }
   ],
   "source": [
    "summary(fitMult)"
   ]
  },
  {
   "cell_type": "code",
   "execution_count": 84,
   "metadata": {},
   "outputs": [
    {
     "data": {
      "text/html": [
       "<style>\n",
       ".list-inline {list-style: none; margin:0; padding: 0}\n",
       ".list-inline>li {display: inline-block}\n",
       ".list-inline>li:not(:last-child)::after {content: \"\\00b7\"; padding: 0 .5ex}\n",
       "</style>\n",
       "<ol class=list-inline><li>'model'</li><li>'mean'</li><li>'level'</li><li>'x'</li><li>'upper'</li><li>'lower'</li><li>'fitted'</li><li>'method'</li><li>'series'</li><li>'residuals'</li></ol>\n"
      ],
      "text/latex": [
       "\\begin{enumerate*}\n",
       "\\item 'model'\n",
       "\\item 'mean'\n",
       "\\item 'level'\n",
       "\\item 'x'\n",
       "\\item 'upper'\n",
       "\\item 'lower'\n",
       "\\item 'fitted'\n",
       "\\item 'method'\n",
       "\\item 'series'\n",
       "\\item 'residuals'\n",
       "\\end{enumerate*}\n"
      ],
      "text/markdown": [
       "1. 'model'\n",
       "2. 'mean'\n",
       "3. 'level'\n",
       "4. 'x'\n",
       "5. 'upper'\n",
       "6. 'lower'\n",
       "7. 'fitted'\n",
       "8. 'method'\n",
       "9. 'series'\n",
       "10. 'residuals'\n",
       "\n",
       "\n"
      ],
      "text/plain": [
       " [1] \"model\"     \"mean\"      \"level\"     \"x\"         \"upper\"     \"lower\"    \n",
       " [7] \"fitted\"    \"method\"    \"series\"    \"residuals\""
      ]
     },
     "metadata": {},
     "output_type": "display_data"
    }
   ],
   "source": [
    "names(fitMult)"
   ]
  },
  {
   "cell_type": "code",
   "execution_count": 85,
   "metadata": {},
   "outputs": [
    {
     "data": {
      "text/html": [
       "0.0270278125965879"
      ],
      "text/latex": [
       "0.0270278125965879"
      ],
      "text/markdown": [
       "0.0270278125965879"
      ],
      "text/plain": [
       "[1] 0.02702781"
      ]
     },
     "metadata": {},
     "output_type": "display_data"
    }
   ],
   "source": [
    "mean(abs(residuals(fitMult)))"
   ]
  },
  {
   "cell_type": "code",
   "execution_count": 86,
   "metadata": {},
   "outputs": [
    {
     "data": {
      "image/png": "[encoded data removed]",
      "text/plain": [
       "Plot with title \"Normal Q-Q Plot\""
      ]
     },
     "metadata": {
      "image/png": {
       "height": 420,
       "width": 420
      }
     },
     "output_type": "display_data"
    }
   ],
   "source": [
    "qqnorm(fitMult$residuals)\n",
    "qqline(fitMult$residuals)\n"
   ]
  },
  {
   "cell_type": "markdown",
   "metadata": {},
   "source": [
    "# Auto Arima"
   ]
  },
  {
   "cell_type": "code",
   "execution_count": 54,
   "metadata": {},
   "outputs": [],
   "source": [
    "fitAutoArima <- auto.arima(trips)"
   ]
  },
  {
   "cell_type": "code",
   "execution_count": 55,
   "metadata": {},
   "outputs": [
    {
     "data": {
      "text/plain": [
       "Series: trips \n",
       "ARIMA(1,0,0)(0,1,0)[4] with drift \n",
       "\n",
       "Coefficients:\n",
       "         ar1    drift\n",
       "      0.5835  35.9414\n",
       "s.e.  0.1585   7.9346\n",
       "\n",
       "sigma^2 estimated as 5616:  log likelihood=-159.77\n",
       "AIC=325.53   AICc=326.53   BIC=329.53"
      ]
     },
     "metadata": {},
     "output_type": "display_data"
    }
   ],
   "source": [
    "fitAutoArima"
   ]
  },
  {
   "cell_type": "code",
   "execution_count": 56,
   "metadata": {},
   "outputs": [
    {
     "name": "stdout",
     "output_type": "stream",
     "text": [
      "Series: trips \n",
      "ARIMA(1,0,0)(0,1,0)[4] with drift \n",
      "\n",
      "Coefficients:\n",
      "         ar1    drift\n",
      "      0.5835  35.9414\n",
      "s.e.  0.1585   7.9346\n",
      "\n",
      "sigma^2 estimated as 5616:  log likelihood=-159.77\n",
      "AIC=325.53   AICc=326.53   BIC=329.53\n",
      "\n",
      "Training set error measures:\n",
      "                   ME     RMSE      MAE         MPE     MAPE      MASE\n",
      "Training set 1.570482 67.54754 55.32141 -0.09590574 2.451533 0.3610385\n",
      "                   ACF1\n",
      "Training set -0.0396672\n"
     ]
    }
   ],
   "source": [
    "summary(fitAutoArima)"
   ]
  },
  {
   "cell_type": "code",
   "execution_count": 57,
   "metadata": {},
   "outputs": [
    {
     "data": {
      "text/html": [
       "<table class=\"dataframe\">\n",
       "<caption>A matrix: 1 × 7 of type dbl</caption>\n",
       "<thead>\n",
       "\t<tr><th></th><th scope=col>ME</th><th scope=col>RMSE</th><th scope=col>MAE</th><th scope=col>MPE</th><th scope=col>MAPE</th><th scope=col>MASE</th><th scope=col>ACF1</th></tr>\n",
       "</thead>\n",
       "<tbody>\n",
       "\t<tr><th scope=row>Training set</th><td>1.570482</td><td>67.54754</td><td>55.32141</td><td>-0.09590574</td><td>2.451533</td><td>0.3610385</td><td>-0.0396672</td></tr>\n",
       "</tbody>\n",
       "</table>\n"
      ],
      "text/latex": [
       "A matrix: 1 × 7 of type dbl\n",
       "\\begin{tabular}{r|lllllll}\n",
       "  & ME & RMSE & MAE & MPE & MAPE & MASE & ACF1\\\\\n",
       "\\hline\n",
       "\tTraining set & 1.570482 & 67.54754 & 55.32141 & -0.09590574 & 2.451533 & 0.3610385 & -0.0396672\\\\\n",
       "\\end{tabular}\n"
      ],
      "text/markdown": [
       "\n",
       "A matrix: 1 × 7 of type dbl\n",
       "\n",
       "| <!--/--> | ME | RMSE | MAE | MPE | MAPE | MASE | ACF1 |\n",
       "|---|---|---|---|---|---|---|---|\n",
       "| Training set | 1.570482 | 67.54754 | 55.32141 | -0.09590574 | 2.451533 | 0.3610385 | -0.0396672 |\n",
       "\n"
      ],
      "text/plain": [
       "             ME       RMSE     MAE      MPE         MAPE     MASE     \n",
       "Training set 1.570482 67.54754 55.32141 -0.09590574 2.451533 0.3610385\n",
       "             ACF1      \n",
       "Training set -0.0396672"
      ]
     },
     "metadata": {},
     "output_type": "display_data"
    }
   ],
   "source": [
    "accuracy(fitAutoArima)"
   ]
  },
  {
   "cell_type": "code",
   "execution_count": 62,
   "metadata": {},
   "outputs": [
    {
     "data": {
      "image/png": "[encoded data removed]",
      "text/plain": [
       "Plot with title \"Arima Plot of the Residuals\""
      ]
     },
     "metadata": {
      "image/png": {
       "height": 420,
       "width": 420
      }
     },
     "output_type": "display_data"
    }
   ],
   "source": [
    "plot(fitAutoArima$residuals, main=\"Arima Plot of the Residuals\")"
   ]
  },
  {
   "cell_type": "code",
   "execution_count": 63,
   "metadata": {},
   "outputs": [
    {
     "data": {
      "image/png": "[encoded data removed]",
      "text/plain": [
       "Plot with title \"Normal Q-Q Plot\""
      ]
     },
     "metadata": {
      "image/png": {
       "height": 420,
       "width": 420
      }
     },
     "output_type": "display_data"
    }
   ],
   "source": [
    "qqnorm(fitAutoArima$residuals)\n",
    "qqline(fitAutoArima$residuals)"
   ]
  },
  {
   "cell_type": "code",
   "execution_count": 64,
   "metadata": {},
   "outputs": [
    {
     "data": {
      "text/plain": [
       "        Point Forecast    Lo 80    Hi 80    Lo 95    Hi 95\n",
       "2020 Q1       2093.465 1997.429 2189.501 1946.590 2240.339\n",
       "2020 Q2       3120.636 3009.447 3231.825 2950.587 3290.685\n",
       "2020 Q3       3451.950 3336.053 3567.846 3274.701 3629.198"
      ]
     },
     "metadata": {},
     "output_type": "display_data"
    }
   ],
   "source": [
    "forecast(fitAutoArima,3)"
   ]
  },
  {
   "cell_type": "code",
   "execution_count": 65,
   "metadata": {},
   "outputs": [
    {
     "data": {
      "image/png": "[encoded data removed]",
      "text/plain": [
       "Plot with title \"Forecasts from ARIMA(1,0,0)(0,1,0)[4] with drift\""
      ]
     },
     "metadata": {
      "image/png": {
       "height": 420,
       "width": 420
      }
     },
     "output_type": "display_data"
    }
   ],
   "source": [
    "plot(forecast(fitAutoArima,3))"
   ]
  },
  {
   "cell_type": "code",
   "execution_count": 70,
   "metadata": {},
   "outputs": [
    {
     "data": {
      "text/html": [
       "55.3214101688568"
      ],
      "text/latex": [
       "55.3214101688568"
      ],
      "text/markdown": [
       "55.3214101688568"
      ],
      "text/plain": [
       "[1] 55.32141"
      ]
     },
     "metadata": {},
     "output_type": "display_data"
    }
   ],
   "source": [
    "mean(abs(fitAutoArima$residuals))"
   ]
  },
  {
   "cell_type": "code",
   "execution_count": null,
   "metadata": {},
   "outputs": [],
   "source": []
  }
 ],
 "metadata": {
  "kernelspec": {
   "display_name": "R 4.0.3",
   "language": "R",
   "name": "ir35"
  },
  "language_info": {
   "codemirror_mode": "r",
   "file_extension": ".r",
   "mimetype": "text/x-r-source",
   "name": "R",
   "pygments_lexer": "r",
   "version": "4.0.3"
  },
  "latex_envs": {
   "LaTeX_envs_menu_present": true,
   "autoclose": false,
   "autocomplete": true,
   "bibliofile": "biblio.bib",
   "cite_by": "apalike",
   "current_citInitial": 1,
   "eqLabelWithNumbers": true,
   "eqNumInitial": 1,
   "hotkeys": {
    "equation": "Ctrl-E",
    "itemize": "Ctrl-I"
   },
   "labels_anchors": false,
   "latex_user_defs": false,
   "report_style_numbering": false,
   "user_envs_cfg": false
  },
  "toc": {
   "base_numbering": 1,
   "nav_menu": {},
   "number_sections": true,
   "sideBar": true,
   "skip_h1_title": false,
   "title_cell": "Table of Contents",
   "title_sidebar": "Contents",
   "toc_cell": false,
   "toc_position": {},
   "toc_section_display": true,
   "toc_window_display": false
  }
 },
 "nbformat": 4,
 "nbformat_minor": 4
}
